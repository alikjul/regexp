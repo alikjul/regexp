{
 "cells": [
  {
   "cell_type": "markdown",
   "metadata": {},
   "source": [
    "Напишите функцию, которая принимает на вход строку и проверяет является ли она валидным транспортным номером. Если да, то функция должна возвращать отдельно номер и регион."
   ]
  },
  {
   "cell_type": "code",
   "execution_count": 1,
   "metadata": {},
   "outputs": [
    {
     "name": "stdout",
     "output_type": "stream",
     "text": [
      "Введите номер\n",
      "М033КА77\n",
      "['033', '77']\n",
      "Введите номер\n",
      "М033КА177\n",
      "['033', '177']\n",
      "Введите номер\n",
      "М033КА1777\n",
      "не является российским транспортным номером\n",
      "Введите номер\n",
      "М033КА\n",
      "не является российским транспортным номером\n",
      "Введите номер\n",
      "E033NG77\n",
      "не является российским транспортным номером\n",
      "Введите номер\n",
      "03377\n",
      "не является российским транспортным номером\n",
      "Введите номер\n",
      "q\n",
      "Программа завершена\n"
     ]
    }
   ],
   "source": [
    "import re\n",
    "\n",
    "def plate_input():\n",
    "    p_input = input('Введите номер\\n')\n",
    "    if p_input == 'q':\n",
    "        return print('Программа завершена')\n",
    "    else:\n",
    "        return check(p_input)\n",
    "\n",
    "def check(n):\n",
    "    pattern = r'[АВЕКМНОРСТУХ]{1}\\d{3}[АВЕКМНОРСТУХ]{2}\\d{2,3}'\n",
    "        \n",
    "    if re.fullmatch(pattern, n):\n",
    "        print(re.findall(r'\\d{2,3}', n))\n",
    "        return plate_input()\n",
    "    else:\n",
    "        print('не является российским транспортным номером')\n",
    "        return plate_input()\n",
    "\n",
    "plate_input()"
   ]
  },
  {
   "cell_type": "markdown",
   "metadata": {},
   "source": [
    "Постарайтесь написать (в крайнем случае найти) самый полный шаблон для проверки e-mail адресов через регулярное выражение, которая проверяет e-mail адрес на валидность. Можно руководствоваться следующими минимальными требованиями:\n",
    "• адрес должен содержать специальный символ “@”, который отделяет имя пользователя почтовой системы от доменного имени;\n",
    "• адрес не должен содержать следующие символы: “пробел”, “,”, “:”, “;”, “!”, “#”, “%”, “*”, “(”, “)”, “=”, “+”, “{”, “}”, \" \" \", \" ’ \", \" / \", \" \\ \" и “|”;\n",
    "• адрес должен состоять только из латинских символов;\n",
    "• после символа “@” должна быть как минимум одна “.”;\n",
    "• после последней точки должно быть не менее 2-х и не более 4-х символов, причем наличие цифр не допускается;\n",
    "• между последней точкой и символом “@” должно быть не менее 2-х символов\n",
    "• слева от “@” должно быть не менее четырех символов"
   ]
  },
  {
   "cell_type": "code",
   "execution_count": 3,
   "metadata": {},
   "outputs": [
    {
     "name": "stdout",
     "output_type": "stream",
     "text": [
      "Введите e-mail адрес\n",
      "mymail@gmail.com\n",
      "Адрес корректен\n",
      "Введите e-mail адрес\n",
      "mymail@gmail.co.uk\n",
      "Адрес корректен\n",
      "Введите e-mail адрес\n",
      "myMail@mail2tor.com\n",
      "Адрес корректен\n",
      "Введите e-mail адрес\n",
      "My.Mail_123@protonmail.com\n",
      "Адрес корректен\n",
      "Введите e-mail адрес\n",
      "mymail@письмо.рф\n",
      "Некорректный адрес\n",
      "Введите e-mail адрес\n",
      "mymail@gmail.cooooooooom\n",
      "Некорректный адрес\n",
      "Введите e-mail адрес\n",
      "mymail@gmail.123\n",
      "Некорректный адрес\n",
      "Введите e-mail адрес\n",
      "mymail\n",
      "Некорректный адрес\n",
      "Введите e-mail адрес\n",
      "mymail@mymail\n",
      "Некорректный адрес\n",
      "Введите e-mail адрес\n",
      "q\n",
      "Программа завершена\n"
     ]
    }
   ],
   "source": [
    "def email_input():\n",
    "    email_input = input('Введите e-mail адрес\\n')\n",
    "    if email_input == 'q':\n",
    "        return print('Программа завершена')\n",
    "    else:\n",
    "        return check(email_input)\n",
    "\n",
    "def check(n):\n",
    "    pattern = r'[a-zA-Z_0-9-.]{4,}[@][a-z_0-9-]{3,}[.]{1}[a-z.]{2,5}'\n",
    "\n",
    "    if re.fullmatch(pattern, n):\n",
    "        print('Адрес корректен')\n",
    "        return email_input()\n",
    "    else:\n",
    "        print('Некорректный адрес')\n",
    "        return email_input()\n",
    "\n",
    "email_input()"
   ]
  },
  {
   "cell_type": "markdown",
   "metadata": {},
   "source": [
    "**Задание 3. **\n",
    "Напишите функцию, которая будет удалять все последовательные повторы слов из заданной строки при помощи регулярных выражений."
   ]
  },
  {
   "cell_type": "code",
   "execution_count": 4,
   "metadata": {},
   "outputs": [
    {
     "name": "stdout",
     "output_type": "stream",
     "text": [
      "Я мыслю, следовательно следовательно я существую\n"
     ]
    },
    {
     "data": {
      "text/plain": [
       "'Я мыслю, следовательно я существую'"
      ]
     },
     "execution_count": 4,
     "metadata": {},
     "output_type": "execute_result"
    }
   ],
   "source": [
    "string_input = input()\n",
    "re.sub(r'(\\b\\w+)\\s\\1', r'\\1', string_input)"
   ]
  },
  {
   "cell_type": "markdown",
   "metadata": {},
   "source": [
    "Задание 4.\n",
    "Напишите функцию, которая будет проверять номер сотового телефона на валидность, если он валиден, то переводить его в формат:\n",
    "+7(xxx)-xxx-xx-xx\n",
    "​\n",
    "Постарайтесь предусмотреть как можно больше адекватных форматов изначального ввода номера. Примеры валидных форматов:\n",
    "​\n",
    "• +7 955 555-55-55;\n",
    "• 9555555555;\n",
    "• 8(955)555-55-55;\n",
    "• +7 955 555 55 55;\n",
    "• 7(955) 555-55-55;\n",
    "• +7 955+555+55+55."
   ]
  },
  {
   "cell_type": "code",
   "execution_count": 10,
   "metadata": {},
   "outputs": [
    {
     "name": "stdout",
     "output_type": "stream",
     "text": [
      "Введите телефонный номер\n",
      "89123456789\n",
      "+7(912)-345-67-89\n"
     ]
    }
   ],
   "source": [
    "value = input('Введите телефонный номер\\n')\n",
    "value_ = re.findall(r'[^- ()]', value)\n",
    "number = ''.join(value_)\n",
    "number_check(number)\n",
    "\n",
    "def number_check(n):\n",
    "    if re.fullmatch(r'[+7|7|007|8]{1,3}[3489]{1}[0-9]{9}', n):\n",
    "        print('+7(',*value_[1:4],')-',*value_[4:7],'-',*value_[7:9],'-',*value_[9:11], sep = '')\n",
    "    elif re.fullmatch(r'[3489]{1}[0-9]{9}', n):\n",
    "        print('+7(',*value_[0:3],')-',*value_[3:6],'-',*value_[6:8],'-',*value_[8:10], sep = '')\n",
    "    else:\n",
    "        print('Вы ввели некорректное значение')"
   ]
  },
  {
   "cell_type": "code",
   "execution_count": null,
   "metadata": {},
   "outputs": [],
   "source": []
  }
 ],
 "metadata": {
  "kernelspec": {
   "display_name": "Python 3",
   "language": "python",
   "name": "python3"
  },
  "language_info": {
   "codemirror_mode": {
    "name": "ipython",
    "version": 3
   },
   "file_extension": ".py",
   "mimetype": "text/x-python",
   "name": "python",
   "nbconvert_exporter": "python",
   "pygments_lexer": "ipython3",
   "version": "3.7.6"
  }
 },
 "nbformat": 4,
 "nbformat_minor": 4
}
